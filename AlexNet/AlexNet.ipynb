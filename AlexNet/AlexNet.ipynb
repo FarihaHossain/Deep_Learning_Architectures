{
 "cells": [
  {
   "cell_type": "code",
   "execution_count": 18,
   "metadata": {},
   "outputs": [],
   "source": [
    "import keras\n",
    "from keras.models import Sequential\n",
    "from keras.layers import Dense, Activation, Dropout, Flatten,Conv2D, MaxPooling2D\n",
    "from keras.layers.normalization import BatchNormalization\n",
    "from sklearn.cross_validation import train_test_split\n",
    "import sys\n",
    "import os\n",
    "os.environ['TF_CPP_MIN_LOG_LEVEL'] = '3'\n",
    "import numpy as np\n",
    "np.random.seed(1000)\n",
    "\n",
    "import sys\n",
    "import os\n",
    "os.environ['TF_CPP_MIN_LOG_LEVEL'] = '3'\n",
    "\n",
    "ros_path = '/opt/ros/kinetic/lib/python2.7/dist-packages'\n",
    "\n",
    "if ros_path in sys.path:\n",
    "    sys.path.remove('/opt/ros/kinetic/lib/python2.7/dist-packages')\n",
    "import cv2"
   ]
  },
  {
   "cell_type": "code",
   "execution_count": 19,
   "metadata": {},
   "outputs": [],
   "source": [
    "# Getting the data: oxford flowers data\n",
    "import tflearn.datasets.oxflower17 as oxflower17\n",
    "x, y = oxflower17.load_data(one_hot=True)\n",
    "X_train, X_test, y_train, y_test = train_test_split(x,y, test_size=0.33)"
   ]
  },
  {
   "cell_type": "code",
   "execution_count": 20,
   "metadata": {},
   "outputs": [],
   "source": [
    "# Creating the model class\n",
    "class AlexNet:\n",
    "    @staticmethod\n",
    "    def build():\n",
    "        model = Sequential()\n",
    "        \n",
    "        # First layer conv2d\n",
    "        model.add(Conv2D(filters=96, input_shape=(224,224,3), kernel_size=(11,11),strides=(4,4), padding='valid'))\n",
    "        model.add(Activation('relu'))\n",
    "        model.add(MaxPooling2D(pool_size=(2,2), strides=(2,2), padding='valid'))\n",
    "        model.add(BatchNormalization())\n",
    "        \n",
    "        # Second conv layer\n",
    "        \n",
    "        model.add(Conv2D(filters=256, kernel_size=(11,11), strides=(1,1), padding='valid'))\n",
    "        model.add(Activation('relu'))\n",
    "        model.add(MaxPooling2D(pool_size=(2,2), strides=(2,2), padding='valid'))\n",
    "        model.add(BatchNormalization())\n",
    "        \n",
    "        # Third conv layer\n",
    "        model.add(Conv2D(filters=384, kernel_size=(3,3), strides=(1,1), padding='valid'))\n",
    "        model.add(Activation('relu'))\n",
    "        model.add(BatchNormalization())\n",
    "        \n",
    "        # Fourth conv layer\n",
    "        model.add(Conv2D(filters=384, kernel_size=(3,3), strides=(1,1), padding='valid'))\n",
    "        model.add(Activation('relu'))\n",
    "        model.add(BatchNormalization())\n",
    "        \n",
    "        # Fifth conv layer\n",
    "        model.add(Conv2D(filters=256, kernel_size=(3,3), strides=(1,1), padding='valid'))\n",
    "        model.add(Activation('relu'))\n",
    "        model.add(MaxPooling2D(pool_size=(2,2), strides=(2,2), padding='valid'))\n",
    "        model.add(BatchNormalization())\n",
    "        \n",
    "        # Dense layer\n",
    "        model.add(Flatten())\n",
    "        model.add(Dense(4096, input_shape=(224*224*3,)))\n",
    "        model.add(Activation('relu'))\n",
    "        model.add(Dropout(0.4))\n",
    "        model.add(BatchNormalization())\n",
    "        \n",
    "        # Second dense layer\n",
    "        model.add(Dense(4096))\n",
    "        model.add(Activation('relu'))\n",
    "        model.add(Dropout(0.4))\n",
    "        model.add(BatchNormalization())\n",
    "        \n",
    "        # Third dense layer\n",
    "        model.add(BatchNormalization())\n",
    "        model.add(Activation('relu'))\n",
    "        model.add(Dropout(0.4))\n",
    "        model.add(BatchNormalization())\n",
    "        \n",
    "        # Output layer\n",
    "        model.add(Dense(17))\n",
    "        model.add(Activation('softmax'))\n",
    "        model.summary()\n",
    "        return model"
   ]
  },
  {
   "cell_type": "code",
   "execution_count": 21,
   "metadata": {},
   "outputs": [
    {
     "name": "stdout",
     "output_type": "stream",
     "text": [
      "_________________________________________________________________\n",
      "Layer (type)                 Output Shape              Param #   \n",
      "=================================================================\n",
      "conv2d_6 (Conv2D)            (None, 54, 54, 96)        34944     \n",
      "_________________________________________________________________\n",
      "activation_10 (Activation)   (None, 54, 54, 96)        0         \n",
      "_________________________________________________________________\n",
      "max_pooling2d_4 (MaxPooling2 (None, 27, 27, 96)        0         \n",
      "_________________________________________________________________\n",
      "batch_normalization_10 (Batc (None, 27, 27, 96)        384       \n",
      "_________________________________________________________________\n",
      "conv2d_7 (Conv2D)            (None, 17, 17, 256)       2973952   \n",
      "_________________________________________________________________\n",
      "activation_11 (Activation)   (None, 17, 17, 256)       0         \n",
      "_________________________________________________________________\n",
      "max_pooling2d_5 (MaxPooling2 (None, 8, 8, 256)         0         \n",
      "_________________________________________________________________\n",
      "batch_normalization_11 (Batc (None, 8, 8, 256)         1024      \n",
      "_________________________________________________________________\n",
      "conv2d_8 (Conv2D)            (None, 6, 6, 384)         885120    \n",
      "_________________________________________________________________\n",
      "activation_12 (Activation)   (None, 6, 6, 384)         0         \n",
      "_________________________________________________________________\n",
      "batch_normalization_12 (Batc (None, 6, 6, 384)         1536      \n",
      "_________________________________________________________________\n",
      "conv2d_9 (Conv2D)            (None, 4, 4, 384)         1327488   \n",
      "_________________________________________________________________\n",
      "activation_13 (Activation)   (None, 4, 4, 384)         0         \n",
      "_________________________________________________________________\n",
      "batch_normalization_13 (Batc (None, 4, 4, 384)         1536      \n",
      "_________________________________________________________________\n",
      "conv2d_10 (Conv2D)           (None, 2, 2, 256)         884992    \n",
      "_________________________________________________________________\n",
      "activation_14 (Activation)   (None, 2, 2, 256)         0         \n",
      "_________________________________________________________________\n",
      "max_pooling2d_6 (MaxPooling2 (None, 1, 1, 256)         0         \n",
      "_________________________________________________________________\n",
      "batch_normalization_14 (Batc (None, 1, 1, 256)         1024      \n",
      "_________________________________________________________________\n",
      "flatten_2 (Flatten)          (None, 256)               0         \n",
      "_________________________________________________________________\n",
      "dense_4 (Dense)              (None, 4096)              1052672   \n",
      "_________________________________________________________________\n",
      "activation_15 (Activation)   (None, 4096)              0         \n",
      "_________________________________________________________________\n",
      "dropout_4 (Dropout)          (None, 4096)              0         \n",
      "_________________________________________________________________\n",
      "batch_normalization_15 (Batc (None, 4096)              16384     \n",
      "_________________________________________________________________\n",
      "dense_5 (Dense)              (None, 4096)              16781312  \n",
      "_________________________________________________________________\n",
      "activation_16 (Activation)   (None, 4096)              0         \n",
      "_________________________________________________________________\n",
      "dropout_5 (Dropout)          (None, 4096)              0         \n",
      "_________________________________________________________________\n",
      "batch_normalization_16 (Batc (None, 4096)              16384     \n",
      "_________________________________________________________________\n",
      "batch_normalization_17 (Batc (None, 4096)              16384     \n",
      "_________________________________________________________________\n",
      "activation_17 (Activation)   (None, 4096)              0         \n",
      "_________________________________________________________________\n",
      "dropout_6 (Dropout)          (None, 4096)              0         \n",
      "_________________________________________________________________\n",
      "batch_normalization_18 (Batc (None, 4096)              16384     \n",
      "_________________________________________________________________\n",
      "dense_6 (Dense)              (None, 17)                69649     \n",
      "_________________________________________________________________\n",
      "activation_18 (Activation)   (None, 17)                0         \n",
      "=================================================================\n",
      "Total params: 24,081,169\n",
      "Trainable params: 24,045,649\n",
      "Non-trainable params: 35,520\n",
      "_________________________________________________________________\n"
     ]
    }
   ],
   "source": [
    "model = AlexNet.build()"
   ]
  },
  {
   "cell_type": "code",
   "execution_count": 22,
   "metadata": {},
   "outputs": [],
   "source": [
    "model.compile(loss='categorical_crossentropy', optimizer='adam', metrics=['accuracy'])"
   ]
  },
  {
   "cell_type": "code",
   "execution_count": 70,
   "metadata": {},
   "outputs": [
    {
     "name": "stdout",
     "output_type": "stream",
     "text": [
      "Train on 1088 samples, validate on 272 samples\n",
      "Epoch 1/5\n",
      "1088/1088 [==============================] - 71s 65ms/step - loss: 2.2628 - acc: 0.3869 - val_loss: 8.3921 - val_acc: 0.2574\n",
      "Epoch 2/5\n",
      "1088/1088 [==============================] - 66s 61ms/step - loss: 1.8631 - acc: 0.4265 - val_loss: 4.2857 - val_acc: 0.3603\n",
      "Epoch 3/5\n",
      "1088/1088 [==============================] - 67s 61ms/step - loss: 1.7152 - acc: 0.4835 - val_loss: 3.4834 - val_acc: 0.4191\n",
      "Epoch 4/5\n",
      "1088/1088 [==============================] - 66s 60ms/step - loss: 1.5986 - acc: 0.5129 - val_loss: 2.8770 - val_acc: 0.4118\n",
      "Epoch 5/5\n",
      "1088/1088 [==============================] - 63s 58ms/step - loss: 1.3934 - acc: 0.5735 - val_loss: 3.3196 - val_acc: 0.4301\n"
     ]
    },
    {
     "data": {
      "text/plain": [
       "<keras.callbacks.History at 0x7f1cecc89c50>"
      ]
     },
     "execution_count": 70,
     "metadata": {},
     "output_type": "execute_result"
    }
   ],
   "source": [
    "model.fit(x, y, batch_size=64, epochs=5, verbose=1,validation_split=0.2, shuffle=True)"
   ]
  },
  {
   "cell_type": "code",
   "execution_count": 72,
   "metadata": {},
   "outputs": [],
   "source": [
    "model.save_weights(\"weights\", overwrite=True)"
   ]
  },
  {
   "cell_type": "code",
   "execution_count": 23,
   "metadata": {},
   "outputs": [],
   "source": [
    "model.load_weights(\"weights\")"
   ]
  },
  {
   "cell_type": "code",
   "execution_count": 8,
   "metadata": {},
   "outputs": [],
   "source": [
    "probs = model.predict(x[np.newaxis,0])\n",
    "prediction = probs.argmax(axis=1)"
   ]
  },
  {
   "cell_type": "code",
   "execution_count": 27,
   "metadata": {},
   "outputs": [
    {
     "name": "stdout",
     "output_type": "stream",
     "text": [
      "[INFO] Predicted: 2, Actual: 1\n",
      "[INFO] Predicted: 14, Actual: 5\n",
      "[INFO] Predicted: 6, Actual: 3\n",
      "[INFO] Predicted: 2, Actual: 7\n",
      "[INFO] Predicted: 15, Actual: 15\n",
      "[INFO] Predicted: 5, Actual: 5\n",
      "[INFO] Predicted: 13, Actual: 13\n",
      "[INFO] Predicted: 9, Actual: 7\n",
      "[INFO] Predicted: 15, Actual: 15\n",
      "[INFO] Predicted: 3, Actual: 3\n",
      "[INFO] Predicted: 1, Actual: 10\n",
      "[INFO] Predicted: 12, Actual: 12\n",
      "[INFO] Predicted: 13, Actual: 13\n",
      "[INFO] Predicted: 15, Actual: 9\n",
      "[INFO] Predicted: 0, Actual: 0\n",
      "[INFO] Predicted: 6, Actual: 4\n",
      "[INFO] Predicted: 11, Actual: 12\n"
     ]
    }
   ],
   "source": [
    "for i in np.random.choice(np.arange(0, len(y_test)), size=(17,)):\n",
    "    # classify the digit\n",
    "    probs = model.predict(X_test[np.newaxis, i])\n",
    "    prediction = probs.argmax(axis=1)\n",
    " \n",
    "    # show the image and prediction\n",
    "    print(\"[INFO] Predicted: {}, Actual: {}\".format(prediction[0], np.argmax(y_test[i])))"
   ]
  }
 ],
 "metadata": {
  "kernelspec": {
   "display_name": "Python 3",
   "language": "python",
   "name": "python3"
  },
  "language_info": {
   "codemirror_mode": {
    "name": "ipython",
    "version": 3
   },
   "file_extension": ".py",
   "mimetype": "text/x-python",
   "name": "python",
   "nbconvert_exporter": "python",
   "pygments_lexer": "ipython3",
   "version": "3.5.2"
  }
 },
 "nbformat": 4,
 "nbformat_minor": 2
}
