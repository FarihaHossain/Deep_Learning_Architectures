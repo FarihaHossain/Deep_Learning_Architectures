{
 "cells": [
  {
   "cell_type": "code",
   "execution_count": 5,
   "metadata": {},
   "outputs": [],
   "source": [
    "from keras.models import Sequential\n",
    "from keras.layers.convolutional import Convolution2D\n",
    "from keras.layers.convolutional import MaxPooling2D\n",
    "from keras.layers.core import Activation\n",
    "from keras.layers.core import Flatten\n",
    "from keras.layers.core import Dense\n",
    "from keras.layers import Conv2D, MaxPooling2D\n",
    "import sys\n",
    "import os\n",
    "os.environ['TF_CPP_MIN_LOG_LEVEL'] = '3'\n",
    "\n",
    "sys.path.remove('/opt/ros/kinetic/lib/python2.7/dist-packages')"
   ]
  },
  {
   "cell_type": "code",
   "execution_count": 6,
   "metadata": {},
   "outputs": [],
   "source": [
    "# Creating a LeNel model class that can be imported to use anywher in the script\n",
    "\n",
    "class LeNet:\n",
    "    @staticmethod\n",
    "    def build(width, height, depth, classes, weightsPath= None):\n",
    "        model = Sequential()\n",
    "        # First set of conv, relu and maxpooling\n",
    "        model.add(Conv2D(20, (5, 5), input_shape=(28, 28, 1)))\n",
    "        model.add(Activation(\"relu\"))\n",
    "        model.add(MaxPooling2D(pool_size=(2, 2), dim_ordering=\"tf\",  strides=(2, 2)))\n",
    "        \n",
    "        # Second set\n",
    "        model.add(Conv2D(50, (5, 5), padding=\"same\"))\n",
    "        model.add(Activation(\"relu\"))\n",
    "        model.add(MaxPooling2D(pool_size=(2, 2), dim_ordering=\"tf\",  strides=(2, 2)))\n",
    "        \n",
    "        # Flatten layer and dense \n",
    "        model.add(Flatten())\n",
    "        model.add(Dense(500))\n",
    "        model.add(Activation(\"relu\"))\n",
    "        \n",
    "        # Softmax in the end\n",
    "        model.add(Dense(classes))\n",
    "        model.add(Activation(\"softmax\"))\n",
    "        \n",
    "        if weightsPath is not None:\n",
    "            model.load_weights(weightsPath)\n",
    "        \n",
    "        return model"
   ]
  },
  {
   "cell_type": "code",
   "execution_count": 7,
   "metadata": {},
   "outputs": [],
   "source": [
    "# Writing driver script to use the LeNet model class created above\n",
    "TF_CPP_MIN_LOG_LEVEL=2\n",
    "os.environ['TF_CPP_MIN_LOG_LEVEL'] = '3'\n",
    "from sklearn.cross_validation import train_test_split\n",
    "from sklearn import datasets\n",
    "from keras.optimizers import SGD\n",
    "from keras.utils import np_utils\n",
    "import numpy as np\n",
    "import argparse\n",
    "import cv2"
   ]
  },
  {
   "cell_type": "code",
   "execution_count": null,
   "metadata": {},
   "outputs": [],
   "source": [
    "print(\"[INFO] downloading MNIST...\")\n",
    "dataset = datasets.fetch_mldata(\"MNIST Original\")\n",
    "data = dataset.data.reshape((dataset.data.shape[0], 28, 28))\n",
    "data = data[:, :, :, np.newaxis]\n",
    "(trainData, testData, trainLabels, testLabels) = train_test_split(data / 255.0, dataset.target.astype(\"int\"), test_size=0.33)"
   ]
  },
  {
   "cell_type": "code",
   "execution_count": 9,
   "metadata": {},
   "outputs": [
    {
     "data": {
      "text/plain": [
       "(70000, 28, 28, 1)"
      ]
     },
     "execution_count": 9,
     "metadata": {},
     "output_type": "execute_result"
    }
   ],
   "source": [
    "trainLabels = np_utils.to_categorical(trainLabels, 10)\n",
    "testLabels = np_utils.to_categorical(testLabels, 10)\n",
    "data.shape"
   ]
  },
  {
   "cell_type": "code",
   "execution_count": 11,
   "metadata": {},
   "outputs": [
    {
     "name": "stderr",
     "output_type": "stream",
     "text": [
      "/home/arpit/.local/lib/python3.5/site-packages/ipykernel_launcher.py:10: UserWarning: Update your `MaxPooling2D` call to the Keras 2 API: `MaxPooling2D(strides=(2, 2), data_format=\"channels_last\", pool_size=(2, 2))`\n",
      "  # Remove the CWD from sys.path while we load stuff.\n",
      "/home/arpit/.local/lib/python3.5/site-packages/ipykernel_launcher.py:15: UserWarning: Update your `MaxPooling2D` call to the Keras 2 API: `MaxPooling2D(strides=(2, 2), data_format=\"channels_last\", pool_size=(2, 2))`\n",
      "  from ipykernel import kernelapp as app\n"
     ]
    }
   ],
   "source": [
    "opt = SGD(lr=0.01)\n",
    "model = LeNet.build(width=28, height=28, depth=1, classes=10)\n",
    "model.compile(loss=\"categorical_crossentropy\", optimizer=opt,metrics=[\"accuracy\"])\n",
    "# model.fit(trainData, trainLabels, batch_size=128, nb_epoch=20,verbose=1)\n",
    "model.load_weights(\"weights\")"
   ]
  },
  {
   "cell_type": "code",
   "execution_count": 12,
   "metadata": {},
   "outputs": [
    {
     "name": "stdout",
     "output_type": "stream",
     "text": [
      "23100/23100 [==============================] - 7s 284us/step\n"
     ]
    }
   ],
   "source": [
    "model.save_weights(\"weights\", overwrite=True)\n",
    "(loss, accuracy) = model.evaluate(testData, testLabels,batch_size=128, verbose=1)"
   ]
  },
  {
   "cell_type": "code",
   "execution_count": 13,
   "metadata": {},
   "outputs": [
    {
     "name": "stdout",
     "output_type": "stream",
     "text": [
      "98.27272727685573\n"
     ]
    }
   ],
   "source": [
    "print(accuracy *100)"
   ]
  },
  {
   "cell_type": "code",
   "execution_count": 14,
   "metadata": {},
   "outputs": [
    {
     "name": "stdout",
     "output_type": "stream",
     "text": [
      "[INFO] Predicted: 5, Actual: 5\n",
      "[INFO] Predicted: 9, Actual: 9\n",
      "[INFO] Predicted: 9, Actual: 9\n",
      "[INFO] Predicted: 2, Actual: 2\n",
      "[INFO] Predicted: 2, Actual: 2\n",
      "[INFO] Predicted: 0, Actual: 0\n",
      "[INFO] Predicted: 9, Actual: 9\n",
      "[INFO] Predicted: 1, Actual: 1\n",
      "[INFO] Predicted: 5, Actual: 5\n",
      "[INFO] Predicted: 8, Actual: 8\n"
     ]
    }
   ],
   "source": [
    "for i in np.random.choice(np.arange(0, len(testLabels)), size=(10,)):\n",
    "    # classify the digit\n",
    "    probs = model.predict(testData[np.newaxis, i])\n",
    "    prediction = probs.argmax(axis=1)\n",
    " \n",
    "\n",
    "    image = (testData[i][0] * 255).astype(\"uint8\")\n",
    "    image = cv2.merge([image] * 3)\n",
    "    image = cv2.resize(image, (96, 96), interpolation=cv2.INTER_LINEAR)\n",
    "    cv2.putText(image, str(prediction[0]), (5, 20),cv2.FONT_HERSHEY_SIMPLEX, 0.75, (0, 255, 0), 2)\n",
    " \n",
    "    # show the image and prediction\n",
    "    print(\"[INFO] Predicted: {}, Actual: {}\".format(prediction[0], np.argmax(testLabels[i])))\n",
    "    cv2.imshow(\"Digit\", image)\n",
    "    cv2.waitKey(0)"
   ]
  }
 ],
 "metadata": {
  "kernelspec": {
   "display_name": "Python 3",
   "language": "python",
   "name": "python3"
  },
  "language_info": {
   "codemirror_mode": {
    "name": "ipython",
    "version": 3
   },
   "file_extension": ".py",
   "mimetype": "text/x-python",
   "name": "python",
   "nbconvert_exporter": "python",
   "pygments_lexer": "ipython3",
   "version": "3.5.2"
  }
 },
 "nbformat": 4,
 "nbformat_minor": 2
}
